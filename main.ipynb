{
 "cells": [
  {
   "cell_type": "code",
   "execution_count": 5,
   "metadata": {},
   "outputs": [],
   "source": [
    "import math\n",
    "from Corpus import *\n",
    "import ipywidgets as widgets"
   ]
  },
  {
   "cell_type": "code",
   "execution_count": 6,
   "metadata": {},
   "outputs": [
    {
     "data": {
      "application/vnd.jupyter.widget-view+json": {
       "model_id": "ffa9fb88003c4973a209ac2ed4b3d65d",
       "version_major": 2,
       "version_minor": 0
      },
      "text/plain": [
       "Text(value='Canada', description='Subject:')"
      ]
     },
     "metadata": {},
     "output_type": "display_data"
    },
    {
     "data": {
      "application/vnd.jupyter.widget-view+json": {
       "model_id": "da9ba4f576e542ceac6083b04ae7daf8",
       "version_major": 2,
       "version_minor": 0
      },
      "text/plain": [
       "IntSlider(value=10, description=\"Nombre d'articles :\", min=1, style=SliderStyle(description_width='initial'))"
      ]
     },
     "metadata": {},
     "output_type": "display_data"
    },
    {
     "data": {
      "application/vnd.jupyter.widget-view+json": {
       "model_id": "2ff354021d92462cafa06c9e464675dc",
       "version_major": 2,
       "version_minor": 0
      },
      "text/plain": [
       "Button(description='Lancer la recherche', style=ButtonStyle())"
      ]
     },
     "metadata": {},
     "output_type": "display_data"
    },
    {
     "name": "stdout",
     "output_type": "stream",
     "text": [
      "Titre : Influence of Magnetic Field on Effective Electron-Electron Interactions  in a Copper Wire\n",
      "Auteur(s) : A. Anthore, F. Pierre, H. Pothier, D. Esteve, M. -H. Devoret\n",
      "Date : 2001/09/17\n",
      "URL : http://arxiv.org/abs/cond-mat/0109297v1\n",
      "\n",
      "Titre : XMM -Newton observations of merging clusters of galaxies: A3921 and  A1750\n",
      "Auteur(s) : E. Belsole, J-L. Sauvageot, R. Teyssier\n",
      "Date : 2002/03/19\n",
      "URL : http://arxiv.org/abs/astro-ph/0203297v1\n",
      "\n",
      "Titre : Microwave probes Dipole Blockade and van der Waals Forces in a Cold  Rydberg Gas\n",
      "Auteur(s) : R. Celistrino Teixeira, C. Hermann-Avigliano, Thanh Long Nguyen, T. Cantat-Moltrecht, Jean-Michel Raimond, S. Haroche, S. Gleyzes, M. Brune\n",
      "Date : 2015/02/14\n",
      "URL : http://arxiv.org/abs/1502.04179v1\n",
      "\n",
      "Titre : Lorentz Dynamics on Closed 3-Manifolds\n",
      "Auteur(s) : Charles Frances\n",
      "Date : 2018/04/23\n",
      "URL : http://arxiv.org/abs/1804.08695v1\n",
      "\n",
      "Titre : An Optimised Flow for Futures: From Theory to Practice\n",
      "Auteur(s) : Nicolas Chappe, Ludovic Henrio, Amaury Maillé, Matthieu Moy, Hadrien Renaud\n",
      "Date : 2021/07/15\n",
      "URL : http://arxiv.org/abs/2107.07298v1\n",
      "\n",
      "Titre : Write and Paint: Generative Vision-Language Models are Unified Modal  Learners\n",
      "Auteur(s) : Shizhe Diao, Wangchunshu Zhou, Xinsong Zhang, Jiawei Wang\n",
      "Date : 2022/06/15\n",
      "URL : http://arxiv.org/abs/2206.07699v3\n",
      "\n",
      "Titre : GPT as Knowledge Worker: A Zero-Shot Evaluation of (AI)CPA Capabilities\n",
      "Auteur(s) : Jillian Bommarito, Michael Bommarito, Daniel Martin Katz, Jessica Katz\n",
      "Date : 2023/01/11\n",
      "URL : http://arxiv.org/abs/2301.04408v1\n",
      "\n",
      "Titre : RSFNet: A White-Box Image Retouching Approach using Region-Specific  Color Filters\n",
      "Auteur(s) : Wenqi Ouyang, Yi Dong, Xiaoyang Kang, Peiran Ren, Xin Xu, Xuansong Xie\n",
      "Date : 2023/03/15\n",
      "URL : http://arxiv.org/abs/2303.08682v2\n",
      "\n",
      "Titre : A Comprehensive Capability Analysis of GPT-3 and GPT-3.5 Series Models\n",
      "Auteur(s) : Junjie Ye, Xuanting Chen, Nuo Xu, Can Zu, Zekai Shao, Shichun Liu, Yuhan Cui, Zeyang Zhou, Chao Gong, Yang Shen, Jie Zhou, Siming Chen, Tao Gui, Qi Zhang, Xuanjing Huang\n",
      "Date : 2023/03/18\n",
      "URL : http://arxiv.org/abs/2303.10420v1\n",
      "\n",
      "Titre : Davinci the Dualist: the mind-body divide in large language models and  in human learners\n",
      "Auteur(s) : Iris Berent, Alexzander Sansiveri\n",
      "Date : 2023/05/10\n",
      "URL : http://arxiv.org/abs/2305.07667v2\n",
      "\n",
      "Titre : December 2023 Hardware Thread\n",
      "Auteur : whyareyouemailingme\n",
      "Date : 2023/12/01\n",
      "URL : https://www.reddit.com//r/davinciresolve/comments/1883m8k/december_2023_hardware_thread/\n",
      "Nombre de commentaires : 12\n",
      "\n",
      "Titre : Monthly AI Threads\n",
      "Auteur : AutoModerator\n",
      "Date : 2023/12/01\n",
      "URL : https://www.reddit.com//r/davinciresolve/comments/1883lyj/monthly_ai_threads/\n",
      "Nombre de commentaires : 0\n",
      "\n",
      "Titre : How to do this text animation with the actual text gap?\n",
      "Auteur : ErenFoundingTitan\n",
      "Date : 2023/12/02\n",
      "URL : https://www.reddit.com//r/davinciresolve/comments/189562m/how_to_do_this_text_animation_with_the_actual/\n",
      "Nombre de commentaires : 2\n",
      "\n",
      "Titre : 24 vs 30 FPS and color grading phone videos?\n",
      "Auteur : Skelguardian\n",
      "Date : 2023/12/02\n",
      "URL : https://www.reddit.com//r/davinciresolve/comments/1893cl1/24_vs_30_fps_and_color_grading_phone_videos/\n",
      "Nombre de commentaires : 7\n",
      "\n",
      "Titre : DaVinci Resolve 18.6 keeps ignoring cache location setting and writes to C disk. How to prevent this?\n",
      "Auteur : Dragoniel\n",
      "Date : 2023/12/02\n",
      "URL : https://www.reddit.com//r/davinciresolve/comments/1890lo7/davinci_resolve_186_keeps_ignoring_cache_location/\n",
      "Nombre de commentaires : 4\n",
      "\n",
      "Titre : Accelerating a timelapse with multiple video sources?\n",
      "Auteur : nwrafter\n",
      "Date : 2023/12/02\n",
      "URL : https://www.reddit.com//r/davinciresolve/comments/1897nw2/accelerating_a_timelapse_with_multiple_video/\n",
      "Nombre de commentaires : 1\n",
      "\n",
      "Titre : Samedi Écriture - Sujet Libre ou \"Vous deviez vous rendre à dîner de famille, mais la flemme. Quelle excuse allez vous bien pouvoir trouver cette fois ?\"\n",
      "Auteur : WillWorkForCatGifs\n",
      "Date : 2023/12/02\n",
      "URL : https://www.reddit.com//r/france/comments/1893u10/samedi_écriture_sujet_libre_ou_vous_deviez_vous/\n",
      "Nombre de commentaires : 4\n",
      "\n",
      "Titre : Forum Libre - 2023-12-02\n",
      "Auteur : AutoModerator\n",
      "Date : 2023/12/02\n",
      "URL : https://www.reddit.com//r/france/comments/188x612/forum_libre_20231202/\n",
      "Nombre de commentaires : 63\n",
      "\n",
      "Titre : Le système de santé français en chute libre : j'ai failli mourir d'une appendicite à cause de plusieurs erreurs médicales.\n",
      "Auteur : GlorieuxSamael\n",
      "Date : 2023/12/02\n",
      "URL : https://www.reddit.com//r/france/comments/18944p6/le_système_de_santé_français_en_chute_libre_jai/\n",
      "Nombre de commentaires : 113\n",
      "\n",
      "Titre : COP28 : une vingtaine de pays, dont la France, appellent à tripler le nucléaire dans le monde d’ici 2050\n",
      "Auteur : BenoitParis\n",
      "Date : 2023/12/02\n",
      "URL : https://www.reddit.com//r/france/comments/188zcw9/cop28_une_vingtaine_de_pays_dont_la_france/\n",
      "Nombre de commentaires : 94\n",
      "\n",
      "Titre : Les gens qui se lèvent toujours trop tôt dans le train, pourquoi?\n",
      "Auteur : GargamelLeNoir\n",
      "Date : 2023/12/02\n",
      "URL : https://www.reddit.com//r/france/comments/18916kw/les_gens_qui_se_lèvent_toujours_trop_tôt_dans_le/\n",
      "Nombre de commentaires : 171\n",
      "\n",
      "\n",
      "\n",
      "Nombre de documents : 22\n",
      "Nombre d'auteurs : 64\n"
     ]
    }
   ],
   "source": [
    "# ==== INTERFACE ====\n",
    "\n",
    "from IPython.display import display\n",
    "\n",
    "subject_input = widgets.Text(\n",
    "    value='Canada',\n",
    "    description='Subject:'\n",
    ")\n",
    "\n",
    "articles_count = widgets.IntSlider(\n",
    "    value=10,\n",
    "    min=1,\n",
    "    max=100,\n",
    "    step=1,\n",
    "    description='Nombre d\\'articles :',\n",
    "    style={'description_width': 'initial'}\n",
    ")\n",
    "\n",
    "button = widgets.Button(description=\"Lancer la recherche\")\n",
    "\n",
    "subject_value = subject_input.value\n",
    "nb_articles_value = articles_count.value\n",
    "\n",
    "def on_button_clicked(b):\n",
    "    subject_value = subject_input.value\n",
    "    nb_articles_value = articles_count.value\n",
    "    Corpus.recherche(subject_value.lower(), math.floor(nb_articles_value / 2))\n",
    "\n",
    "button.on_click(on_button_clicked)\n",
    "\n",
    "display(subject_input, articles_count, button)"
   ]
  }
 ],
 "metadata": {
  "kernelspec": {
   "display_name": "python",
   "language": "python",
   "name": "python3"
  },
  "language_info": {
   "codemirror_mode": {
    "name": "ipython",
    "version": 3
   },
   "file_extension": ".py",
   "mimetype": "text/x-python",
   "name": "python",
   "nbconvert_exporter": "python",
   "pygments_lexer": "ipython3",
   "version": "3.11.5"
  }
 },
 "nbformat": 4,
 "nbformat_minor": 2
}
