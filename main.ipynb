{
 "cells": [
  {
   "cell_type": "code",
   "execution_count": null,
   "metadata": {},
   "outputs": [],
   "source": [
    "# Projet Spécialité Python\n",
    "\n",
    "# Elyes KHALFALLAH\n",
    "# Matthieu GUILLEMIN\n",
    "\n",
    "# v2\n",
    "\n",
    "from Corpus import *\n",
    "import ipywidgets as widgets"
   ]
  },
  {
   "cell_type": "code",
   "execution_count": null,
   "metadata": {},
   "outputs": [],
   "source": [
    "# ==== INTERFACE ====\n",
    "\n",
    "# Création des champs de saisie et du bouton\n",
    "subject_input = widgets.Text(\n",
    "    value='Hydroponic',\n",
    "    description='Corpus :'\n",
    ")\n",
    "\n",
    "keywords_input = widgets.Text(\n",
    "    value='average,system',\n",
    "    description='Mots clés :'\n",
    ")\n",
    "\n",
    "narticles_input = widgets.IntSlider(\n",
    "    value=10,\n",
    "    min=2,\n",
    "    max=100,\n",
    "    step=2,\n",
    "    style={'description_width': 'initial'},\n",
    "    description='Nombre d\\'articles :'\n",
    ")\n",
    "\n",
    "button = widgets.Button(description=\"Lancer la recherche\")\n",
    "\n",
    "# Récupération des valeurs initiales des champs de saisie\n",
    "subject_value = subject_input.value\n",
    "nb_articles_value = narticles_input.value\n",
    "keywords_value = keywords_input.value\n",
    "\n",
    "# Fonction pour gérer le clic sur le bouton\n",
    "def on_button_clicked(b):\n",
    "    # Mise à jour des valeurs à chaque clic sur le bouton\n",
    "    subject_value = subject_input.value\n",
    "    narticles_value = narticles_input.value\n",
    "    corpus = Corpus(subject_value)\n",
    "    corpus.fill(subject_value.lower(), narticles_value)\n",
    "    corpus.search(subject_value)\n",
    "    corpus.create_vocabulary()\n",
    "    \n",
    "    # Mise à jour des mots clés\n",
    "    keywords_value = keywords_input.value\n",
    "    corpus.compute_similarity(keywords_value)\n",
    "\n",
    "# Associer la fonction à l'événement \"clic sur le bouton\"\n",
    "button.on_click(on_button_clicked)\n",
    "\n",
    "# Afficher les champs de saisie et le bouton\n",
    "display(subject_input, keywords_input, narticles_input, button)"
   ]
  }
 ],
 "metadata": {
  "kernelspec": {
   "display_name": "python",
   "language": "python",
   "name": "python3"
  },
  "language_info": {
   "codemirror_mode": {
    "name": "ipython",
    "version": 3
   },
   "file_extension": ".py",
   "mimetype": "text/x-python",
   "name": "python",
   "nbconvert_exporter": "python",
   "pygments_lexer": "ipython3",
   "version": "3.12.0"
  }
 },
 "nbformat": 4,
 "nbformat_minor": 2
}
