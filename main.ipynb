{
 "cells": [
  {
   "cell_type": "code",
   "execution_count": null,
   "metadata": {},
   "outputs": [],
   "source": [
    "from Corpus import *\n",
    "import ipywidgets as widgets"
   ]
  },
  {
   "cell_type": "code",
   "execution_count": null,
   "metadata": {},
   "outputs": [],
   "source": [
    "# ==== INTERFACE ====\n",
    "\n",
    "subject_input = widgets.Text(\n",
    "    value='Hydroponic',\n",
    "    description='Corpus :'\n",
    ")\n",
    "\n",
    "keywords_input = widgets.Text(\n",
    "    value='average,system',\n",
    "    description='Mots clés :'\n",
    ")\n",
    "\n",
    "narticles_input = widgets.IntSlider(\n",
    "    value = 10,\n",
    "    min   = 2,\n",
    "    max   = 100,\n",
    "    step  = 2,\n",
    "    style = {'description_width': 'initial'},\n",
    "    description = 'Nombre d\\'articles :'\n",
    ")\n",
    "\n",
    "button = widgets.Button(description=\"Lancer la recherche\")\n",
    "\n",
    "subject_value = subject_input.value\n",
    "nb_articles_value = narticles_input.value\n",
    "keywords_value = keywords_input.value\n",
    "\n",
    "def on_button_clicked(b):\n",
    "    # Corpus\n",
    "    subject_value = subject_input.value\n",
    "    narticles_value = narticles_input.value\n",
    "    corpus = Corpus(subject_value)\n",
    "    corpus.fill(subject_value.lower(), narticles_value)\n",
    "    corpus.search(subject_value)\n",
    "    corpus.create_vocabulary()\n",
    "    \n",
    "    # Mots clés\n",
    "    keywords_value = keywords_input.value\n",
    "    corpus.compute_similarity(keywords_value)\n",
    "\n",
    "button.on_click(on_button_clicked)\n",
    "\n",
    "display(subject_input, keywords_input, narticles_input, button)"
   ]
  }
 ],
 "metadata": {
  "kernelspec": {
   "display_name": "python",
   "language": "python",
   "name": "python3"
  },
  "language_info": {
   "codemirror_mode": {
    "name": "ipython",
    "version": 3
   },
   "file_extension": ".py",
   "mimetype": "text/x-python",
   "name": "python",
   "nbconvert_exporter": "python",
   "pygments_lexer": "ipython3",
   "version": "3.11.5"
  }
 },
 "nbformat": 4,
 "nbformat_minor": 2
}
