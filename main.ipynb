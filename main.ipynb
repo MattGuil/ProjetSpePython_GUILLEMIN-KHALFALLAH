{
 "cells": [
  {
   "cell_type": "code",
   "execution_count": null,
   "metadata": {},
   "outputs": [],
   "source": [
    "import math\n",
    "from Corpus import *\n",
    "import ipywidgets as widgets"
   ]
  },
  {
   "cell_type": "code",
   "execution_count": null,
   "metadata": {},
   "outputs": [],
   "source": [
    "# ==== INTERFACE ====\n",
    "\n",
    "subject_input = widgets.Text(\n",
    "    value='Cat',\n",
    "    description='Subject:'\n",
    ")\n",
    "\n",
    "articles_count = widgets.IntSlider(\n",
    "    value = 10,\n",
    "    min   = 1,\n",
    "    max   = 100,\n",
    "    step  = 1,\n",
    "    style = {'description_width': 'initial'},\n",
    "    description = 'Nombre d\\'articles :'\n",
    ")\n",
    "\n",
    "button = widgets.Button(description=\"Lancer la recherche\")\n",
    "\n",
    "subject_value = subject_input.value\n",
    "nb_articles_value = articles_count.value\n",
    "\n",
    "def on_button_clicked(b):\n",
    "    subject_value = subject_input.value\n",
    "    nb_articles_value = articles_count.value\n",
    "    corpus = Corpus(subject_value)\n",
    "    corpus.fill(subject_value.lower(), math.floor(nb_articles_value / 2))\n",
    "\n",
    "button.on_click(on_button_clicked)\n",
    "\n",
    "display(subject_input, articles_count, button)"
   ]
  }
 ],
 "metadata": {
  "kernelspec": {
   "display_name": "python",
   "language": "python",
   "name": "python3"
  },
  "language_info": {
   "codemirror_mode": {
    "name": "ipython",
    "version": 3
   },
   "file_extension": ".py",
   "mimetype": "text/x-python",
   "name": "python",
   "nbconvert_exporter": "python",
   "pygments_lexer": "ipython3",
   "version": "3.11.5"
  }
 },
 "nbformat": 4,
 "nbformat_minor": 2
}
